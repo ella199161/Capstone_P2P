{
 "cells": [
  {
   "cell_type": "markdown",
   "metadata": {},
   "source": [
    "# P-P Investing\n",
    "Jianlei \n",
    "See My App: http://p2p-invest.herokuapp.com\n",
    "Many people have money sitting in a bank account seek ways to invest. Comparing to the rather unstable stock market, Peer to Peer(P2P) would be a great choice. P2P lending is the method of lending money to individuals or businesses through online services. On the investor's side, the investment return is much higher than bank CD account, and safer than stock market.\n",
    "\n",
    "As an investor, there are two things I care about, first when I lend money out, I defiantly want it back, so the charge-off rate would be important. Secondly, I would want to earn a good interest. As you may know, risker loans come with higher interest rate, to find a happy balance, I have created this app that will recommend safer loans given a given risk appetite. "
   ]
  },
  {
   "cell_type": "code",
   "execution_count": 1,
   "metadata": {
    "collapsed": true
   },
   "outputs": [],
   "source": [
    "import pandas as pd\n",
    "import numpy as np\n",
    "import os\n",
    "import datetime\n",
    "import time\n",
    "from datetime import date\n",
    "import matplotlib.pyplot as plt\n",
    "from sklearn.model_selection import train_test_split\n",
    "from sklearn.linear_model import LogisticRegression\n",
    "from sklearn.metrics import precision_score, accuracy_score, recall_score, f1_score, roc_auc_score\n",
    "from sklearn.metrics import roc_curve, auc, confusion_matrix\n",
    "from datetime import timedelta, datetime\n",
    "from sklearn.ensemble import GradientBoostingClassifier\n",
    "% matplotlib inline\n",
    "# Always make it pretty.\n",
    "plt.style.use('ggplot')\n",
    "import math\n",
    "from sklearn.preprocessing import LabelEncoder, OneHotEncoder \n",
    "from urllib.request import urlopen, Request\n",
    "import requests\n",
    "from sklearn.externals import joblib as pickle\n",
    "from sklearn import base"
   ]
  },
  {
   "cell_type": "code",
   "execution_count": 2,
   "metadata": {
    "collapsed": true
   },
   "outputs": [],
   "source": [
    "from transformers import ColumnSelectTransformer, CreditTimeTransformer, NaInputeTransformer, EstimatorTransformer, ColumnUnSelectTransformer,OneColumnSelectTransformer,ReshapeTransformer,MyLabelEncoder\n"
   ]
  },
  {
   "cell_type": "markdown",
   "metadata": {},
   "source": [
    "# Load Lending Club History Data "
   ]
  },
  {
   "cell_type": "code",
   "execution_count": 3,
   "metadata": {},
   "outputs": [
    {
     "name": "stderr",
     "output_type": "stream",
     "text": [
      "/opt/conda/envs/data3/lib/python3.6/site-packages/IPython/core/interactiveshell.py:2698: DtypeWarning: Columns (18,48,128,129,130,133,134,135,138) have mixed types. Specify dtype option on import or set low_memory=False.\n",
      "  interactivity=interactivity, compiler=compiler, result=result)\n"
     ]
    }
   ],
   "source": [
    "Lending_club = pd.read_csv('Lending_club_train.csv')"
   ]
  },
  {
   "cell_type": "code",
   "execution_count": 4,
   "metadata": {
    "collapsed": true
   },
   "outputs": [],
   "source": [
    "emplength_dict = {'1':12, '10+ years':120, '2 years':24, '3 years':36, '< 1 year':6, '5 years':60,\n",
    "                  '1 year':12, '7 years': 84, '6 years':72, '4 years':48, '8 years':96, \n",
    "                  '9 years':108, 0 : 0}\n",
    "Lending_club.emplength.fillna(0, inplace = True)\n",
    "Lending_club['emplength'] = Lending_club['emplength'].apply(lambda x: emplength_dict[x])"
   ]
  },
  {
   "cell_type": "code",
   "execution_count": 5,
   "metadata": {
    "collapsed": true
   },
   "outputs": [],
   "source": [
    "LendingA = Lending_club[Lending_club['grade'] == 'A']\n",
    "LendingB = Lending_club[Lending_club['grade'] == 'B']\n",
    "LendingC = Lending_club[Lending_club['grade'] == 'C']\n",
    "LendingD = Lending_club[Lending_club['grade'] == 'D']\n",
    "LendingE = Lending_club[Lending_club['grade'] == 'E']\n",
    "LendingF = Lending_club[Lending_club['grade'] == 'F']\n",
    "LendingG = Lending_club[Lending_club['grade'] == 'G']\n",
    "yA = LendingA.loanstatus\n",
    "yB = LendingB.loanstatus\n",
    "yC = LendingC.loanstatus\n",
    "yD = LendingD.loanstatus\n",
    "yE = LendingE.loanstatus\n",
    "yF = LendingF.loanstatus\n",
    "yG = LendingG.loanstatus"
   ]
  },
  {
   "cell_type": "code",
   "execution_count": 6,
   "metadata": {
    "collapsed": true
   },
   "outputs": [],
   "source": [
    "agree = pickle.load('agree.pickle')"
   ]
  },
  {
   "cell_type": "markdown",
   "metadata": {},
   "source": [
    "# Get current Listing From Lending Club API"
   ]
  },
  {
   "cell_type": "code",
   "execution_count": 7,
   "metadata": {
    "collapsed": true
   },
   "outputs": [],
   "source": [
    "headers = {'Authorization' : 'p96JwpSHaxLH5U4PFPwcYWv9ZhY='} # this is my token, you should put in yours and set it as a system variable to invest\n",
    "result = requests.get('https://api.lendingclub.com/api/investor/v1/loans/listing', headers = headers)\n",
    "Listing = result.json()\n",
    "Listing = pd.DataFrame(Listing['loans'])"
   ]
  },
  {
   "cell_type": "code",
   "execution_count": 8,
   "metadata": {
    "collapsed": true
   },
   "outputs": [],
   "source": [
    "Listing['issued'] = date.today()\n",
    "Listing = Listing[Listing['term'] == 36] # I only look at 36 month loans"
   ]
  },
  {
   "cell_type": "markdown",
   "metadata": {},
   "source": [
    "# Data Processing"
   ]
  },
  {
   "cell_type": "code",
   "execution_count": 9,
   "metadata": {
    "collapsed": true
   },
   "outputs": [],
   "source": [
    "List_col = [i.lower() for i in Listing.columns.values]\n",
    "Listing.columns = List_col #normalize the formmate issue with the data set"
   ]
  },
  {
   "cell_type": "code",
   "execution_count": 10,
   "metadata": {
    "collapsed": true
   },
   "outputs": [],
   "source": [
    "Listing = Listing[agree]\n",
    "ListingA = Listing[Listing['grade'] == 'A']\n",
    "ListingB = Listing[Listing['grade'] == 'B']\n",
    "ListingC = Listing[Listing['grade'] == 'C']\n",
    "ListingD = Listing[Listing['grade'] == 'D']\n",
    "ListingE = Listing[Listing['grade'] == 'E']\n",
    "ListingF = Listing[Listing['grade'] == 'F']\n",
    "ListingG = Listing[Listing['grade'] == 'G']"
   ]
  },
  {
   "cell_type": "markdown",
   "metadata": {},
   "source": [
    "## Pick out the relevent columns\n",
    "\n",
    "Pickout the columns to keep, first the share variable denote all the columns that exists both on my historical and the listing set. this will make sure there is no information leakage."
   ]
  },
  {
   "cell_type": "code",
   "execution_count": 11,
   "metadata": {
    "collapsed": true
   },
   "outputs": [],
   "source": [
    "columns_keep = ['addrstate','annualinc','chargeoffwithin12mths','delinq2yrs', 'purpose',\n",
    "                'delinqamnt', 'dti','earliestcrline','emplength','ficorangehigh','pubrec',\n",
    "               'installment','intrate','loanamount', 'numoprevtl', 'numrevaccts',\n",
    "       'homeownership','numbcsats','revolbal','revolutil','taxliens','totcurbal'\n",
    "               ]"
   ]
  },
  {
   "cell_type": "markdown",
   "metadata": {},
   "source": [
    "A not about missing value inputation, there are three ways of inputing missing values, the zero inputation, mean, and major class."
   ]
  },
  {
   "cell_type": "code",
   "execution_count": 12,
   "metadata": {
    "collapsed": true
   },
   "outputs": [],
   "source": [
    "zerox_inp = ['chargeoffwithin12mths','delinq2yrs', 'delinqamnt','emplength',\n",
    "             'numoprevtl', 'numrevaccts','numbcsats','pubrec','revolbal',\n",
    "             'revolutil','taxliens','totcurbal'\n",
    "            ]\n",
    "mean_inp = ['ficorangehigh','annualinc','dti']\n",
    "maj_inp = ['addrstate','purpose', 'homeownership', 'earliestcrline']"
   ]
  },
  {
   "cell_type": "markdown",
   "metadata": {},
   "source": [
    "The CreditTimeTransformer claculate the credit length from the loan application date. since the data we have is only the earlist credit line, but it will be more meaninful to compare the credit length at the time of the loan"
   ]
  },
  {
   "cell_type": "markdown",
   "metadata": {},
   "source": [
    "# Pipeline\n",
    "## Data Cleaning"
   ]
  },
  {
   "cell_type": "code",
   "execution_count": 13,
   "metadata": {
    "collapsed": true
   },
   "outputs": [],
   "source": [
    "from sklearn.pipeline import Pipeline\n",
    "pipe = Pipeline([\n",
    "    ('ctt', CreditTimeTransformer('earliestcrline', 'issued')),\n",
    "    ('cst', ColumnSelectTransformer(columns_keep)),\n",
    "    ('nit', NaInputeTransformer(zerox_inp, mean_inp, maj_inp))\n",
    "])"
   ]
  },
  {
   "cell_type": "markdown",
   "metadata": {},
   "source": [
    "## Puspose pipe"
   ]
  },
  {
   "cell_type": "code",
   "execution_count": 14,
   "metadata": {
    "collapsed": true
   },
   "outputs": [],
   "source": [
    "purpose_pipe = Pipeline([('cst1', OneColumnSelectTransformer('purpose')),\n",
    "    ('lab', MyLabelEncoder()),\n",
    "    ('rft', ReshapeTransformer()),                     \n",
    "    ('ohe', OneHotEncoder(sparse=False))\n",
    "                        ])"
   ]
  },
  {
   "cell_type": "markdown",
   "metadata": {},
   "source": [
    "## Home Ownership pipe"
   ]
  },
  {
   "cell_type": "code",
   "execution_count": 15,
   "metadata": {
    "collapsed": true
   },
   "outputs": [],
   "source": [
    "homeownership_pipe = Pipeline([('cst1', OneColumnSelectTransformer('homeownership')),\n",
    "    ('lab', MyLabelEncoder()),\n",
    "    ('rft', ReshapeTransformer()),                     \n",
    "    ('ohe', OneHotEncoder(sparse=False))\n",
    "                        ])"
   ]
  },
  {
   "cell_type": "markdown",
   "metadata": {},
   "source": [
    "## Feature Union"
   ]
  },
  {
   "cell_type": "code",
   "execution_count": 16,
   "metadata": {},
   "outputs": [],
   "source": [
    "from sklearn.pipeline import FeatureUnion\n",
    "cata = ['addrstate', 'purpose', 'homeownership']\n",
    "union =  FeatureUnion([\n",
    "    ('cust', ColumnUnSelectTransformer(cata)),\n",
    "    ('purpose_pipe', purpose_pipe),\n",
    "    ('homeownership_pipe', homeownership_pipe)\n",
    "    ])"
   ]
  },
  {
   "cell_type": "markdown",
   "metadata": {},
   "source": [
    "## Full pipe"
   ]
  },
  {
   "cell_type": "code",
   "execution_count": 53,
   "metadata": {},
   "outputs": [],
   "source": [
    "from sklearn.model_selection import GridSearchCV\n",
    "param = {\n",
    "    'C':[0.001,0.01,0.1,1,10,100],\n",
    "    'penalty': ['l2', 'l1'],\n",
    "    'class_weight': ['balanced']\n",
    "}\n",
    "\n",
    "full_pipe = Pipeline([\n",
    "    ('pipe_clean', pipe),\n",
    "    ('pipe_enc', union),\n",
    "    ('clf', GridSearchCV(LogisticRegression(), param, cv = 3))\n",
    "])"
   ]
  },
  {
   "cell_type": "markdown",
   "metadata": {},
   "source": [
    "## pipeA"
   ]
  },
  {
   "cell_type": "code",
   "execution_count": 18,
   "metadata": {
    "collapsed": true
   },
   "outputs": [],
   "source": [
    "X_train, X_test, y_train, y_test = train_test_split(LendingA, yA, test_size=0.2, random_state=43)"
   ]
  },
  {
   "cell_type": "code",
   "execution_count": 21,
   "metadata": {},
   "outputs": [
    {
     "name": "stderr",
     "output_type": "stream",
     "text": [
      "/opt/conda/envs/data3/lib/python3.6/site-packages/pandas/core/indexing.py:517: SettingWithCopyWarning: \n",
      "A value is trying to be set on a copy of a slice from a DataFrame.\n",
      "Try using .loc[row_indexer,col_indexer] = value instead\n",
      "\n",
      "See the caveats in the documentation: http://pandas.pydata.org/pandas-docs/stable/indexing.html#indexing-view-versus-copy\n",
      "  self.obj[item] = s\n",
      "/opt/conda/envs/data3/lib/python3.6/site-packages/pandas/core/generic.py:3660: SettingWithCopyWarning: \n",
      "A value is trying to be set on a copy of a slice from a DataFrame\n",
      "\n",
      "See the caveats in the documentation: http://pandas.pydata.org/pandas-docs/stable/indexing.html#indexing-view-versus-copy\n",
      "  self._update_inplace(new_data)\n"
     ]
    }
   ],
   "source": [
    "pipeA = full_pipe.fit(X_train,y_train);"
   ]
  },
  {
   "cell_type": "code",
   "execution_count": 22,
   "metadata": {},
   "outputs": [
    {
     "name": "stderr",
     "output_type": "stream",
     "text": [
      "/opt/conda/envs/data3/lib/python3.6/site-packages/pandas/core/indexing.py:517: SettingWithCopyWarning: \n",
      "A value is trying to be set on a copy of a slice from a DataFrame.\n",
      "Try using .loc[row_indexer,col_indexer] = value instead\n",
      "\n",
      "See the caveats in the documentation: http://pandas.pydata.org/pandas-docs/stable/indexing.html#indexing-view-versus-copy\n",
      "  self.obj[item] = s\n",
      "/opt/conda/envs/data3/lib/python3.6/site-packages/pandas/core/generic.py:3660: SettingWithCopyWarning: \n",
      "A value is trying to be set on a copy of a slice from a DataFrame\n",
      "\n",
      "See the caveats in the documentation: http://pandas.pydata.org/pandas-docs/stable/indexing.html#indexing-view-versus-copy\n",
      "  self._update_inplace(new_data)\n"
     ]
    }
   ],
   "source": [
    "y_pred = full_pipe.predict(X_test)"
   ]
  },
  {
   "cell_type": "code",
   "execution_count": 25,
   "metadata": {},
   "outputs": [
    {
     "name": "stdout",
     "output_type": "stream",
     "text": [
      "For A grade The Risk of using my model is: 3.2%, comparing to auto investment: 5.52% you are 42.0% safer\n"
     ]
    }
   ],
   "source": [
    "MatrixA = confusion_matrix(y_test, y_pred)\n",
    "NagitiveA = MatrixA[0][0]/(MatrixA[0][0]+MatrixA[1][0])*100\n",
    "PositiveA = MatrixA[0][1]/(MatrixA[0][1]+MatrixA[1][1])*100\n",
    "AllA = 100-sum(yA)/len(yA)*100\n",
    "#print(Matrix, Nagitive*100, Positive*100, All*100)\n",
    "print('For A grade The Risk of using my model is: {0:.3}%, comparing to auto investment: {1:.3}% you are {2:.3}% safer'.format( PositiveA, AllA, (AllA - PositiveA)*100/AllA))"
   ]
  },
  {
   "cell_type": "code",
   "execution_count": null,
   "metadata": {
    "collapsed": true
   },
   "outputs": [],
   "source": []
  },
  {
   "cell_type": "markdown",
   "metadata": {},
   "source": [
    "## pipeB"
   ]
  },
  {
   "cell_type": "code",
   "execution_count": 26,
   "metadata": {
    "collapsed": true
   },
   "outputs": [],
   "source": [
    "X_train, X_test, y_train, y_test = train_test_split(LendingB, yB, test_size=0.2, random_state=43)"
   ]
  },
  {
   "cell_type": "code",
   "execution_count": null,
   "metadata": {},
   "outputs": [
    {
     "name": "stderr",
     "output_type": "stream",
     "text": [
      "/opt/conda/envs/data3/lib/python3.6/site-packages/pandas/core/indexing.py:517: SettingWithCopyWarning: \n",
      "A value is trying to be set on a copy of a slice from a DataFrame.\n",
      "Try using .loc[row_indexer,col_indexer] = value instead\n",
      "\n",
      "See the caveats in the documentation: http://pandas.pydata.org/pandas-docs/stable/indexing.html#indexing-view-versus-copy\n",
      "  self.obj[item] = s\n",
      "/opt/conda/envs/data3/lib/python3.6/site-packages/pandas/core/generic.py:3660: SettingWithCopyWarning: \n",
      "A value is trying to be set on a copy of a slice from a DataFrame\n",
      "\n",
      "See the caveats in the documentation: http://pandas.pydata.org/pandas-docs/stable/indexing.html#indexing-view-versus-copy\n",
      "  self._update_inplace(new_data)\n"
     ]
    }
   ],
   "source": [
    "pipeB = full_pipe.fit(X_train,y_train);"
   ]
  },
  {
   "cell_type": "code",
   "execution_count": null,
   "metadata": {
    "collapsed": true
   },
   "outputs": [],
   "source": [
    "y_pred = pipeB.predict(X_test)"
   ]
  },
  {
   "cell_type": "code",
   "execution_count": 32,
   "metadata": {},
   "outputs": [
    {
     "name": "stdout",
     "output_type": "stream",
     "text": [
      "For B grade The Risk of using my model is: 6.86%, comparing to auto investment: 10.7% you are 35.7% safer\n"
     ]
    }
   ],
   "source": [
    "MatrixB = confusion_matrix(y_test, y_pred)\n",
    "NagitiveB = MatrixB[0][0]/(MatrixB[0][0]+MatrixB[1][0])*100\n",
    "PositiveB = MatrixB[0][1]/(MatrixB[0][1]+MatrixB[1][1])*100\n",
    "AllB = 100-sum(yB)/len(yB)*100\n",
    "#print(Matrix, Nagitive*100, Positive*100, All*100)\n",
    "print('For B grade The Risk of using my model is: {0:.3}%, comparing to auto investment: {1:.3}% you are {2:.3}% safer'.format( PositiveB, AllB, (AllB - PositiveB)*100/AllB))"
   ]
  },
  {
   "cell_type": "code",
   "execution_count": 36,
   "metadata": {},
   "outputs": [
    {
     "data": {
      "text/plain": [
       "{'C': 10, 'class_weight': 'balanced', 'penalty': 'l1'}"
      ]
     },
     "execution_count": 36,
     "metadata": {},
     "output_type": "execute_result"
    }
   ],
   "source": [
    "pipeA.named_steps['clf'].best_params_"
   ]
  },
  {
   "cell_type": "code",
   "execution_count": 37,
   "metadata": {
    "collapsed": true
   },
   "outputs": [],
   "source": [
    "# since we have already know the best params \n",
    "param = {\n",
    "    'C':[0.1,1,10],\n",
    "    'penalty': [ 'l1'],\n",
    "    'class_weight': ['balanced']\n",
    "}\n",
    "\n",
    "full_pipe = Pipeline([\n",
    "    ('pipe_clean', pipe),\n",
    "    ('pipe_enc', union),\n",
    "    ('clf', GridSearchCV(LogisticRegression(), param, cv = 3))\n",
    "])\n",
    "\n"
   ]
  },
  {
   "cell_type": "markdown",
   "metadata": {},
   "source": [
    "## pipeC"
   ]
  },
  {
   "cell_type": "code",
   "execution_count": null,
   "metadata": {},
   "outputs": [
    {
     "name": "stderr",
     "output_type": "stream",
     "text": [
      "/opt/conda/envs/data3/lib/python3.6/site-packages/pandas/core/indexing.py:517: SettingWithCopyWarning: \n",
      "A value is trying to be set on a copy of a slice from a DataFrame.\n",
      "Try using .loc[row_indexer,col_indexer] = value instead\n",
      "\n",
      "See the caveats in the documentation: http://pandas.pydata.org/pandas-docs/stable/indexing.html#indexing-view-versus-copy\n",
      "  self.obj[item] = s\n",
      "/opt/conda/envs/data3/lib/python3.6/site-packages/pandas/core/generic.py:3660: SettingWithCopyWarning: \n",
      "A value is trying to be set on a copy of a slice from a DataFrame\n",
      "\n",
      "See the caveats in the documentation: http://pandas.pydata.org/pandas-docs/stable/indexing.html#indexing-view-versus-copy\n",
      "  self._update_inplace(new_data)\n",
      "/opt/conda/envs/data3/lib/python3.6/site-packages/pandas/core/indexing.py:517: SettingWithCopyWarning: \n",
      "A value is trying to be set on a copy of a slice from a DataFrame.\n",
      "Try using .loc[row_indexer,col_indexer] = value instead\n",
      "\n",
      "See the caveats in the documentation: http://pandas.pydata.org/pandas-docs/stable/indexing.html#indexing-view-versus-copy\n",
      "  self.obj[item] = s\n",
      "/opt/conda/envs/data3/lib/python3.6/site-packages/pandas/core/generic.py:3660: SettingWithCopyWarning: \n",
      "A value is trying to be set on a copy of a slice from a DataFrame\n",
      "\n",
      "See the caveats in the documentation: http://pandas.pydata.org/pandas-docs/stable/indexing.html#indexing-view-versus-copy\n",
      "  self._update_inplace(new_data)\n"
     ]
    }
   ],
   "source": [
    "X_train, X_test, y_train, y_test = train_test_split(LendingC, yC, test_size=0.2, random_state=43)\n",
    "pipeC = full_pipe.fit(X_train,y_train)\n",
    "y_pred = pipeC.predict(X_test)"
   ]
  },
  {
   "cell_type": "code",
   "execution_count": null,
   "metadata": {},
   "outputs": [
    {
     "name": "stdout",
     "output_type": "stream",
     "text": [
      "For C grade The Risk of using my model is: 14.0%, comparing to auto investment: 16.2% you are 13.8% safer\n"
     ]
    }
   ],
   "source": [
    "MatrixC = confusion_matrix(y_test, y_pred)\n",
    "NagitiveC = MatrixC[0][0]/(MatrixC[0][0]+MatrixC[1][0])*100\n",
    "PositiveC = MatrixC[0][1]/(MatrixC[0][1]+MatrixC[1][1])*100\n",
    "AllC = 100-sum(yC)/len(yC)*100\n",
    "#print(Matrix, Nagitive*100, Positive*100, All*100)\n",
    "print('For C grade The Risk of using my model is: {0:.3}%, comparing to auto investment: {1:.3}% you are {2:.3}% safer'.format( PositiveC, AllC, (AllC - PositiveC)*100/AllC))"
   ]
  },
  {
   "cell_type": "markdown",
   "metadata": {},
   "source": [
    "## pipeD"
   ]
  },
  {
   "cell_type": "code",
   "execution_count": null,
   "metadata": {},
   "outputs": [
    {
     "name": "stderr",
     "output_type": "stream",
     "text": [
      "/opt/conda/envs/data3/lib/python3.6/site-packages/pandas/core/indexing.py:517: SettingWithCopyWarning: \n",
      "A value is trying to be set on a copy of a slice from a DataFrame.\n",
      "Try using .loc[row_indexer,col_indexer] = value instead\n",
      "\n",
      "See the caveats in the documentation: http://pandas.pydata.org/pandas-docs/stable/indexing.html#indexing-view-versus-copy\n",
      "  self.obj[item] = s\n",
      "/opt/conda/envs/data3/lib/python3.6/site-packages/pandas/core/generic.py:3660: SettingWithCopyWarning: \n",
      "A value is trying to be set on a copy of a slice from a DataFrame\n",
      "\n",
      "See the caveats in the documentation: http://pandas.pydata.org/pandas-docs/stable/indexing.html#indexing-view-versus-copy\n",
      "  self._update_inplace(new_data)\n",
      "/opt/conda/envs/data3/lib/python3.6/site-packages/pandas/core/indexing.py:517: SettingWithCopyWarning: \n",
      "A value is trying to be set on a copy of a slice from a DataFrame.\n",
      "Try using .loc[row_indexer,col_indexer] = value instead\n",
      "\n",
      "See the caveats in the documentation: http://pandas.pydata.org/pandas-docs/stable/indexing.html#indexing-view-versus-copy\n",
      "  self.obj[item] = s\n",
      "/opt/conda/envs/data3/lib/python3.6/site-packages/pandas/core/generic.py:3660: SettingWithCopyWarning: \n",
      "A value is trying to be set on a copy of a slice from a DataFrame\n",
      "\n",
      "See the caveats in the documentation: http://pandas.pydata.org/pandas-docs/stable/indexing.html#indexing-view-versus-copy\n",
      "  self._update_inplace(new_data)\n"
     ]
    }
   ],
   "source": [
    "X_train, X_test, y_train, y_test = train_test_split(LendingD, yD, test_size=0.2, random_state=43)\n",
    "pipeD = full_pipe.fit(X_train,y_train)\n",
    "y_pred = pipeD.predict(X_test)"
   ]
  },
  {
   "cell_type": "code",
   "execution_count": null,
   "metadata": {},
   "outputs": [
    {
     "name": "stdout",
     "output_type": "stream",
     "text": [
      "For D grade The Risk of using my model is: 17.3%, comparing to auto investment: 20.6% you are 16.0% safer\n"
     ]
    }
   ],
   "source": [
    "MatrixD = confusion_matrix(y_test, y_pred)\n",
    "NagitiveD = MatrixD[0][0]/(MatrixD[0][0]+MatrixD[1][0])*100\n",
    "PositiveD = MatrixD[0][1]/(MatrixD[0][1]+MatrixD[1][1])*100\n",
    "AllD = 100-sum(yD)/len(yD)*100\n",
    "#print(Matrix, Nagitive*100, Positive*100, All*100)\n",
    "print('For D grade The Risk of using my model is: {0:.3}%, comparing to auto investment: {1:.3}% you are {2:.3}% safer'.format( PositiveD, AllD, (AllD - PositiveD)*100/AllD))"
   ]
  },
  {
   "cell_type": "markdown",
   "metadata": {},
   "source": [
    "## pipeE"
   ]
  },
  {
   "cell_type": "code",
   "execution_count": 42,
   "metadata": {},
   "outputs": [
    {
     "name": "stderr",
     "output_type": "stream",
     "text": [
      "/opt/conda/envs/data3/lib/python3.6/site-packages/pandas/core/indexing.py:517: SettingWithCopyWarning: \n",
      "A value is trying to be set on a copy of a slice from a DataFrame.\n",
      "Try using .loc[row_indexer,col_indexer] = value instead\n",
      "\n",
      "See the caveats in the documentation: http://pandas.pydata.org/pandas-docs/stable/indexing.html#indexing-view-versus-copy\n",
      "  self.obj[item] = s\n",
      "/opt/conda/envs/data3/lib/python3.6/site-packages/pandas/core/generic.py:3660: SettingWithCopyWarning: \n",
      "A value is trying to be set on a copy of a slice from a DataFrame\n",
      "\n",
      "See the caveats in the documentation: http://pandas.pydata.org/pandas-docs/stable/indexing.html#indexing-view-versus-copy\n",
      "  self._update_inplace(new_data)\n",
      "/opt/conda/envs/data3/lib/python3.6/site-packages/pandas/core/indexing.py:517: SettingWithCopyWarning: \n",
      "A value is trying to be set on a copy of a slice from a DataFrame.\n",
      "Try using .loc[row_indexer,col_indexer] = value instead\n",
      "\n",
      "See the caveats in the documentation: http://pandas.pydata.org/pandas-docs/stable/indexing.html#indexing-view-versus-copy\n",
      "  self.obj[item] = s\n",
      "/opt/conda/envs/data3/lib/python3.6/site-packages/pandas/core/generic.py:3660: SettingWithCopyWarning: \n",
      "A value is trying to be set on a copy of a slice from a DataFrame\n",
      "\n",
      "See the caveats in the documentation: http://pandas.pydata.org/pandas-docs/stable/indexing.html#indexing-view-versus-copy\n",
      "  self._update_inplace(new_data)\n"
     ]
    }
   ],
   "source": [
    "X_train, X_test, y_train, y_test = train_test_split(LendingE, yE, test_size=0.2, random_state=43)\n",
    "pipeE = full_pipe.fit(X_train,y_train)\n",
    "y_pred = pipeE.predict(X_test)"
   ]
  },
  {
   "cell_type": "code",
   "execution_count": 43,
   "metadata": {},
   "outputs": [
    {
     "name": "stdout",
     "output_type": "stream",
     "text": [
      "For E grade The Risk of using my model is: 20.2%, comparing to auto investment: 23.9% you are 15.3% safer\n"
     ]
    }
   ],
   "source": [
    "MatrixE = confusion_matrix(y_test, y_pred)\n",
    "NagitiveE = MatrixE[0][0]/(MatrixE[0][0]+MatrixE[1][0])*100\n",
    "PositiveE = MatrixE[0][1]/(MatrixE[0][1]+MatrixE[1][1])*100\n",
    "AllE = 100-sum(yE)/len(yE)*100\n",
    "#print(Matrix, Nagitive*100, Positive*100, All*100)\n",
    "print('For E grade The Risk of using my model is: {0:.3}%, comparing to auto investment: {1:.3}% you are {2:.3}% safer'.format( PositiveE, AllE, (AllE - PositiveE)*100/AllE))"
   ]
  },
  {
   "cell_type": "markdown",
   "metadata": {},
   "source": [
    "## pipeF"
   ]
  },
  {
   "cell_type": "code",
   "execution_count": 44,
   "metadata": {},
   "outputs": [
    {
     "name": "stderr",
     "output_type": "stream",
     "text": [
      "/opt/conda/envs/data3/lib/python3.6/site-packages/pandas/core/indexing.py:517: SettingWithCopyWarning: \n",
      "A value is trying to be set on a copy of a slice from a DataFrame.\n",
      "Try using .loc[row_indexer,col_indexer] = value instead\n",
      "\n",
      "See the caveats in the documentation: http://pandas.pydata.org/pandas-docs/stable/indexing.html#indexing-view-versus-copy\n",
      "  self.obj[item] = s\n",
      "/opt/conda/envs/data3/lib/python3.6/site-packages/pandas/core/generic.py:3660: SettingWithCopyWarning: \n",
      "A value is trying to be set on a copy of a slice from a DataFrame\n",
      "\n",
      "See the caveats in the documentation: http://pandas.pydata.org/pandas-docs/stable/indexing.html#indexing-view-versus-copy\n",
      "  self._update_inplace(new_data)\n",
      "/opt/conda/envs/data3/lib/python3.6/site-packages/pandas/core/indexing.py:517: SettingWithCopyWarning: \n",
      "A value is trying to be set on a copy of a slice from a DataFrame.\n",
      "Try using .loc[row_indexer,col_indexer] = value instead\n",
      "\n",
      "See the caveats in the documentation: http://pandas.pydata.org/pandas-docs/stable/indexing.html#indexing-view-versus-copy\n",
      "  self.obj[item] = s\n",
      "/opt/conda/envs/data3/lib/python3.6/site-packages/pandas/core/generic.py:3660: SettingWithCopyWarning: \n",
      "A value is trying to be set on a copy of a slice from a DataFrame\n",
      "\n",
      "See the caveats in the documentation: http://pandas.pydata.org/pandas-docs/stable/indexing.html#indexing-view-versus-copy\n",
      "  self._update_inplace(new_data)\n"
     ]
    }
   ],
   "source": [
    "X_train, X_test, y_train, y_test = train_test_split(LendingF, yF, test_size=0.2, random_state=43)\n",
    "pipeF = full_pipe.fit(X_train,y_train)\n",
    "y_pred = pipeF.predict(X_test)"
   ]
  },
  {
   "cell_type": "code",
   "execution_count": 45,
   "metadata": {},
   "outputs": [
    {
     "name": "stdout",
     "output_type": "stream",
     "text": [
      "For F grade The Risk of using my model is: 25.4%, comparing to auto investment: 28.3% you are 10.4% safer\n"
     ]
    }
   ],
   "source": [
    "MatrixF = confusion_matrix(y_test, y_pred)\n",
    "NagitiveF = MatrixF[0][0]/(MatrixF[0][0]+MatrixF[1][0])*100\n",
    "PositiveF = MatrixF[0][1]/(MatrixF[0][1]+MatrixF[1][1])*100\n",
    "AllF = 100-sum(yF)/len(yF)*100\n",
    "#print(Matrix, Nagitive*100, Positive*100, All*100)\n",
    "print('For F grade The Risk of using my model is: {0:.3}%, comparing to auto investment: {1:.3}% you are {2:.3}% safer'.format( PositiveF, AllF, (AllF - PositiveF)*100/AllF))"
   ]
  },
  {
   "cell_type": "markdown",
   "metadata": {},
   "source": [
    "## pipeG"
   ]
  },
  {
   "cell_type": "code",
   "execution_count": 60,
   "metadata": {},
   "outputs": [
    {
     "name": "stderr",
     "output_type": "stream",
     "text": [
      "/opt/conda/envs/data3/lib/python3.6/site-packages/pandas/core/indexing.py:517: SettingWithCopyWarning: \n",
      "A value is trying to be set on a copy of a slice from a DataFrame.\n",
      "Try using .loc[row_indexer,col_indexer] = value instead\n",
      "\n",
      "See the caveats in the documentation: http://pandas.pydata.org/pandas-docs/stable/indexing.html#indexing-view-versus-copy\n",
      "  self.obj[item] = s\n",
      "/opt/conda/envs/data3/lib/python3.6/site-packages/pandas/core/generic.py:3660: SettingWithCopyWarning: \n",
      "A value is trying to be set on a copy of a slice from a DataFrame\n",
      "\n",
      "See the caveats in the documentation: http://pandas.pydata.org/pandas-docs/stable/indexing.html#indexing-view-versus-copy\n",
      "  self._update_inplace(new_data)\n",
      "/opt/conda/envs/data3/lib/python3.6/site-packages/pandas/core/indexing.py:517: SettingWithCopyWarning: \n",
      "A value is trying to be set on a copy of a slice from a DataFrame.\n",
      "Try using .loc[row_indexer,col_indexer] = value instead\n",
      "\n",
      "See the caveats in the documentation: http://pandas.pydata.org/pandas-docs/stable/indexing.html#indexing-view-versus-copy\n",
      "  self.obj[item] = s\n",
      "/opt/conda/envs/data3/lib/python3.6/site-packages/pandas/core/generic.py:3660: SettingWithCopyWarning: \n",
      "A value is trying to be set on a copy of a slice from a DataFrame\n",
      "\n",
      "See the caveats in the documentation: http://pandas.pydata.org/pandas-docs/stable/indexing.html#indexing-view-versus-copy\n",
      "  self._update_inplace(new_data)\n"
     ]
    }
   ],
   "source": [
    "X_train, X_test, y_train, y_test = train_test_split(LendingG, yG, test_size=0.2, random_state=42)\n",
    "pipeG = full_pipe.fit(X_train,y_train)\n",
    "y_pred = pipeG.predict(X_test)"
   ]
  },
  {
   "cell_type": "markdown",
   "metadata": {},
   "source": [
    "Now we have all the models for all risk appitite, this app will predict the relevently safer loan within each risk appitite. "
   ]
  },
  {
   "cell_type": "markdown",
   "metadata": {},
   "source": [
    "# Survival Feature\n",
    "The next question asked is, what if I have already start a loan, how do I evaluate how safe it is. Here, I used the kaplan -merier survival analysis to estimate the survival probability given its current performance.\n"
   ]
  },
  {
   "cell_type": "code",
   "execution_count": 2,
   "metadata": {
    "collapsed": true
   },
   "outputs": [],
   "source": [
    "from lifelines import KaplanMeierFitter\n",
    "kmf = KaplanMeierFitter()"
   ]
  },
  {
   "cell_type": "code",
   "execution_count": null,
   "metadata": {},
   "outputs": [
    {
     "name": "stderr",
     "output_type": "stream",
     "text": [
      "/opt/conda/envs/data3/lib/python3.6/site-packages/IPython/core/interactiveshell.py:2698: DtypeWarning: Columns (0,18,48,58,117,128,129,130,133,134,135,138,144,145,146) have mixed types. Specify dtype option on import or set low_memory=False.\n",
      "  interactivity=interactivity, compiler=compiler, result=result)\n"
     ]
    }
   ],
   "source": [
    "Lending_club = pd.read_csv('accepted_2007_to_2017Q3.csv')"
   ]
  },
  {
   "cell_type": "markdown",
   "metadata": {},
   "source": [
    "Data Cleaning"
   ]
  },
  {
   "cell_type": "code",
   "execution_count": null,
   "metadata": {
    "collapsed": true
   },
   "outputs": [],
   "source": [
    "def Clean_sub_Lending_club(Lending_club):\n",
    "    Lending_club_todrop = ['id', 'member_id', 'funded_amnt', 'funded_amnt_inv',\n",
    "                      'verification_status','desc', 'title', 'zip_code','delinq_2yrs',\n",
    "                      'inq_last_6mths', 'mths_since_last_delinq', 'mths_since_last_record', 'open_acc', \n",
    "                      'revol_bal', 'revol_util', 'total_rec_int', 'total_rec_late_fee', 'recoveries', 'collection_recovery_fee',\n",
    "                      'hardship_flag', 'hardship_type', 'hardship_reason', 'hardship_status', 'deferral_term', 'hardship_amount',\n",
    "                        'hardship_start_date', 'hardship_end_date', 'payment_plan_start_date', 'hardship_length', 'hardship_dpd', \n",
    "                       'hardship_loan_status', 'orig_projected_additional_accrued_interest', 'hardship_payoff_balance_amount', \n",
    "                       'hardship_last_payment_amount', 'disbursement_method', 'debt_settlement_flag', 'debt_settlement_flag_date', \n",
    "                       'settlement_status', 'settlement_date', 'settlement_amount', 'settlement_percentage', 'settlement_term',\n",
    "                      'bc_util', 'chargeoff_within_12_mths', 'delinq_amnt', 'mo_sin_old_il_acct', 'mo_sin_old_rev_tl_op', \n",
    "                       'mo_sin_rcnt_rev_tl_op', 'mo_sin_rcnt_tl', 'mort_acc', 'mths_since_recent_bc', 'mths_since_recent_bc_dlq', \n",
    "                       'mths_since_recent_inq', 'mths_since_recent_revol_delinq', 'num_accts_ever_120_pd', 'num_actv_bc_tl', \n",
    "                       'num_actv_rev_tl', 'num_bc_sats', 'num_bc_tl', 'num_il_tl', 'num_op_rev_tl', 'num_rev_accts', \n",
    "                       'num_rev_tl_bal_gt_0', 'num_sats', 'num_tl_120dpd_2m', 'num_tl_30dpd', 'num_tl_90g_dpd_24m', \n",
    "                       'num_tl_op_past_12m', 'pct_tl_nvr_dlq', 'percent_bc_gt_75', 'pub_rec_bankruptcies', 'tax_liens', \n",
    "                       'tot_hi_cred_lim', 'total_bal_ex_mort', 'total_bc_limit', 'total_il_high_credit_limit', 'revol_bal_joint', \n",
    "                       'sec_app_fico_range_low', 'sec_app_fico_range_high', 'sec_app_earliest_cr_line', 'sec_app_inq_last_6mths', \n",
    "                       'sec_app_mort_acc', 'sec_app_open_acc', 'sec_app_revol_util', 'sec_app_open_act_il', 'sec_app_num_rev_accts', \n",
    "                       'sec_app_chargeoff_within_12_mths', 'sec_app_collections_12_mths_ex_med', 'sec_app_mths_since_last_major_derog',\n",
    "                        ]\n",
    "    Lending_club.drop(Lending_club_todrop,axis = 1 ,inplace = True)\n",
    "    Lending_club['earliest_cr_line'] = pd.to_datetime(Lending_club['earliest_cr_line'])\n",
    "    Lending_club['issue_d'] = pd.to_datetime(Lending_club['issue_d'])\n",
    "    Lending_club['last_pymnt_d'] = pd.to_datetime(Lending_club['last_pymnt_d'])\n",
    "    Lending_club['next_pymnt_d'] = pd.to_datetime(Lending_club['next_pymnt_d'])\n",
    "    Lending_club['last_credit_pull_d'] = pd.to_datetime(Lending_club['last_credit_pull_d'])\n",
    "    Lending_club['dti_new'] = np.where(Lending_club['application_type']=='JOINT', Lending_club['dti_joint'],Lending_club['dti'])\n",
    "    Lending_club['annual_inc'] = np.where(Lending_club['application_type']=='JOINT', Lending_club['annual_inc_joint'],Lending_club['annual_inc'])\n",
    "    Lending_club_sub_col = ['loan_amnt', 'term', 'int_rate', 'installment', 'grade', 'tot_cur_bal',\n",
    "                       'emp_length', 'home_ownership', 'annual_inc', 'issue_d', \n",
    "                        'loan_status', 'pymnt_plan', 'purpose', 'addr_state', 'dti', \n",
    "                        'earliest_cr_line', 'fico_range_low', 'fico_range_high', 'pub_rec', \n",
    "                        'total_acc', 'initial_list_status' ,'last_pymnt_d', 'last_pymnt_amnt', 'next_pymnt_d','duration']\n",
    "    Lending_club['last_pymnt_d'] = pd.to_datetime(Lending_club['last_pymnt_d'])\n",
    "    Lending_club['next_pymnt_d'] = pd.to_datetime(Lending_club['next_pymnt_d'])\n",
    "    Lending_club['duration'] = Lending_club['last_pymnt_d']-Lending_club['issue_d']\n",
    "    Lending_club_sub = Lending_club[Lending_club_sub_col]\n",
    "    Lending_club_sub['Credit_len'] =  Lending_club_sub['issue_d']- Lending_club_sub['earliest_cr_line']\n",
    "    Lending_club_sub['Credit_day'] = Lending_club_sub['Credit_len'].apply(lambda x: x.days)\n",
    "    Lending_club_sub['log_tot_Cur_bal'] = Lending_club_sub['tot_cur_bal'].apply([lambda x: math.log(x+1)])\n",
    "    Lending_club_sub['log_income'] = Lending_club_sub['annual_inc'].apply(lambda x: math.log(x+1))\n",
    "    Lending_club_sub_col = Lending_club_sub.columns.values\n",
    "    Lending_club_na = Lending_club_sub.isnull().sum()/len(Lending_club_sub)\n",
    "    Lending_club_sub.loc[(Lending_club_sub['home_ownership'] == 'OWN') | (Lending_club_sub['home_ownership'] == 'MORTGAGE') , 'home_ownership'] = 1\n",
    "    Lending_club_sub.loc[(Lending_club_sub['home_ownership'] != 1)  , 'home_ownership'] = 0 \n",
    "    Lending_club_sub.loc[(Lending_club_sub['loan_status'] == 'Current') | (Lending_club_sub['loan_status'] == 'Fully Paid') , 'loan_status'] = 'Good' \n",
    "    Lending_club_sub.loc[(Lending_club_sub['loan_status'] != 'Good')  , 'loan_status'] = 'Bad' \n",
    "    for i in range(len(Lending_club_na)):\n",
    "        if Lending_club_na[i] > 0.8:\n",
    "            Lending_club_sub.drop(Lending_club_col[i],axis = 1, inplace = True)\n",
    "    for i in Lending_club_sub.columns.values:\n",
    "        for i in Lending_club_sub.columns.values:\n",
    "            #print(i)\n",
    "            if Lending_club_sub[i].dtypes == object or Lending_club_sub[i].dtypes == 'datetime64[ns]':\n",
    "                Lending_club_sub_group = Lending_club_sub.groupby(i).size()\n",
    "                maj = Lending_club_sub_group[Lending_club_sub_group == Lending_club_sub_group.max()].index[0]\n",
    "                Lending_club_sub[i].fillna(maj, inplace = True)\n",
    "            else:\n",
    "                Lending_club_sub[i].fillna(Lending_club_sub[i].mean(skipna = True), inplace = True);\n",
    "    return Lending_club_sub\n",
    "Lending_club_sub = Clean_sub_Lending_club(Lending_club)    \n",
    "    "
   ]
  },
  {
   "cell_type": "markdown",
   "metadata": {},
   "source": [
    "pick out only the 3 year terms and the loans that are either finished or charged off"
   ]
  },
  {
   "cell_type": "code",
   "execution_count": null,
   "metadata": {
    "collapsed": true
   },
   "outputs": [],
   "source": [
    "Lending_club_sub['loan_status1'] = Lending_club['loan_status']\n",
    "Lending_Club_3y = Lending_club_sub[Lending_club_sub['term'] == \" 36 months\" ]\n",
    "Lending_Club_3yago = Lending_Club_3y[Lending_Club_3y['issue_d']<Lending_Club_3y['issue_d'].max() - timedelta(days = 365*3)]"
   ]
  },
  {
   "cell_type": "code",
   "execution_count": null,
   "metadata": {
    "collapsed": true
   },
   "outputs": [],
   "source": [
    "Lending_Club_3yago.loc[Lending_Club_3yago['loan_status1'] == 'Fully Paid','loan_status1'] = 0\n",
    "Lending_Club_3yago.loc[Lending_Club_3yago['loan_status1'] != 0,'loan_status1'] = 1"
   ]
  },
  {
   "cell_type": "code",
   "execution_count": null,
   "metadata": {
    "collapsed": true
   },
   "outputs": [],
   "source": [
    "Lending_Club_3yago['duration'] = Lending_Club_3yago['duration'].apply(lambda x:x.days)\n",
    "Lending_Club_3yago[['loan_status1','duration','grade']].dropna(inplace = True)"
   ]
  },
  {
   "cell_type": "markdown",
   "metadata": {},
   "source": [
    "The KaplanMeierFitter fit a survival curve."
   ]
  },
  {
   "cell_type": "code",
   "execution_count": null,
   "metadata": {
    "collapsed": true
   },
   "outputs": [],
   "source": [
    "kmf.fit(Lending_Club_3yago['duration'], event_observed = Lending_Club_3yago['loan_status1'])\n",
    "kmf.survival_function_\n",
    "kmf.median_\n",
    "kmf.plot()"
   ]
  },
  {
   "cell_type": "code",
   "execution_count": null,
   "metadata": {
    "collapsed": true
   },
   "outputs": [],
   "source": [
    "GA =(Lending_Club_3yago['grade'] =='A')\n",
    "GB =(Lending_Club_3yago['grade'] =='B')\n",
    "GC =(Lending_Club_3yago['grade'] =='C')\n",
    "GD =(Lending_Club_3yago['grade'] =='D')\n",
    "GE =(Lending_Club_3yago['grade'] =='E')  \n",
    "GF =(Lending_Club_3yago['grade'] =='F')  \n",
    "GG =(Lending_Club_3yago['grade'] =='G') "
   ]
  },
  {
   "cell_type": "markdown",
   "metadata": {},
   "source": [
    "fit one curve by each grade"
   ]
  },
  {
   "cell_type": "code",
   "execution_count": null,
   "metadata": {
    "collapsed": true
   },
   "outputs": [],
   "source": [
    "ax = plt.subplot(111)\n",
    "\n",
    "kmf.fit(Lending_Club_3yago['duration'][GA], event_observed=Lending_Club_3yago['loan_status1'][GA],label='A')\n",
    "kmf.plot(ax= ax)\n",
    "kmf.fit(Lending_Club_3yago['duration'][GB], event_observed=Lending_Club_3yago['loan_status1'][GB],label='B')\n",
    "kmf.plot(ax= ax)\n",
    "kmf.fit(Lending_Club_3yago['duration'][GC], event_observed=Lending_Club_3yago['loan_status1'][GC],label='C')\n",
    "kmf.plot(ax= ax)\n",
    "kmf.fit(Lending_Club_3yago['duration'][GD], event_observed=Lending_Club_3yago['loan_status1'][GD],label='D')\n",
    "kmf.plot(ax= ax)\n",
    "kmf.fit(Lending_Club_3yago['duration'][GE], event_observed=Lending_Club_3yago['loan_status1'][GE],label='E')\n",
    "kmf.plot(ax= ax)\n",
    "kmf.fit(Lending_Club_3yago['duration'][GF], event_observed=Lending_Club_3yago['loan_status1'][GF],label='F')\n",
    "kmf.plot(ax= ax)\n",
    "kmf.fit(Lending_Club_3yago['duration'][GG], event_observed=Lending_Club_3yago['loan_status1'][GG],label='G')\n",
    "kmf.plot(ax= ax)\n",
    "plt.xlim(0, 1100)\n",
    "\n",
    "\n",
    "\n",
    "\n",
    "line = plt.gca().get_lines()[0]\n",
    "agrade = zip(line.get_xdata(),line.get_ydata())\n",
    "xyda = [x for x in agrade if x[0] < 1000]# and x[1] < 0.999]\n",
    "xda = [x[0] for x in xyda]\n",
    "yda = [x[1] for x in xyda]\n",
    "\n",
    "line = plt.gca().get_lines()[1]\n",
    "bgrade = zip(line.get_xdata(),line.get_ydata())\n",
    "xydb = [x for x in bgrade if x[0] < 1000]# and x[1] < 0.999]\n",
    "xdb = [x[0] for x in xydb]\n",
    "ydb = [x[1] for x in xydb]\n",
    "\n",
    "line = plt.gca().get_lines()[2]\n",
    "cgrade = zip(line.get_xdata(),line.get_ydata())\n",
    "xydc = [x for x in cgrade if x[0] < 1000]# and x[1] < 0.999]\n",
    "xdc = [x[0] for x in xydc]\n",
    "ydc = [x[1] for x in xydc]\n",
    "\n",
    "line = plt.gca().get_lines()[3]\n",
    "dgrade = zip(line.get_xdata(),line.get_ydata())\n",
    "xydd = [x for x in dgrade if x[0] < 1000]# and x[1] < 0.999]\n",
    "xdd = [x[0] for x in xydd]\n",
    "ydd = [x[1] for x in xydd]\n",
    "\n",
    "line = plt.gca().get_lines()[4]\n",
    "egrade = zip(line.get_xdata(),line.get_ydata())\n",
    "xyde = [x for x in egrade if x[0] < 1000]# and x[1] < 0.999]\n",
    "xde = [x[0] for x in xyde]\n",
    "yde = [x[1] for x in xyde]\n",
    "\n",
    "\n",
    "line = plt.gca().get_lines()[5]\n",
    "fgrade = zip(line.get_xdata(),line.get_ydata())\n",
    "xydf = [x for x in fgrade if x[0] < 1000 ]#and x[1] < 0.999]\n",
    "xdf = [x[0] for x in xydf]\n",
    "ydf = [x[1] for x in xydf]\n",
    "\n",
    "line = plt.gca().get_lines()[5]\n",
    "ggrade = zip(line.get_xdata(),line.get_ydata())\n",
    "xydg = [x for x in ggrade if x[0] < 1000 ]#and x[1] < 0.999]\n",
    "xdg = [x[0] for x in xydg]\n",
    "ydg = [x[1] for x in xydg]"
   ]
  },
  {
   "cell_type": "markdown",
   "metadata": {},
   "source": [
    "fit it with a exponential decay line"
   ]
  },
  {
   "cell_type": "code",
   "execution_count": null,
   "metadata": {
    "collapsed": true
   },
   "outputs": [],
   "source": [
    "def func(x, a, b, c):\n",
    "    return a * np.exp(-b * x + c)\n",
    "def fit_plot(xda,yda):\n",
    "    xda, yda = np.asarray(xda),np.asarray(yda) \n",
    "    \n",
    "    popta, pcova = sp.optimize.curve_fit(func, xda, yda, p0 = (6.01891403e-01,   3.14864032e-04,   5.57748279e-01))\n",
    "    a,b,c = popta\n",
    "    plt.plot(xda, func(xda, *popta), 'r-',label=\"y = {0:.3}exp(-{1:.3}x + {2:.3}) \".format(a,b,c))\n",
    "    plt.plot(xda,yda,label=\"Loan Survival\")\n",
    "#    plt.xlim(200,1100)\n",
    "#    plt.ylim(0,1)\n",
    "    plt.legend()\n",
    "    print(func(1000, *popta) )\n",
    "    return popta"
   ]
  },
  {
   "cell_type": "code",
   "execution_count": null,
   "metadata": {
    "collapsed": true
   },
   "outputs": [],
   "source": [
    "param_a = fit_plot(xda,yda)\n",
    "param_b = fit_plot(xdb,ydb)\n",
    "param_c = fit_plot(xdc,ydc)\n",
    "param_d = fit_plot(xdd,ydd)\n",
    "param_e = fit_plot(xde,yde)\n",
    "param_f = fit_plot(xdf,ydf)\n",
    "param_g = fit_plot(xdg,ydg)"
   ]
  },
  {
   "cell_type": "code",
   "execution_count": null,
   "metadata": {
    "collapsed": true
   },
   "outputs": [],
   "source": []
  }
 ],
 "metadata": {
  "kernelspec": {
   "display_name": "Python 3",
   "language": "python",
   "name": "python3"
  },
  "language_info": {
   "codemirror_mode": {
    "name": "ipython",
    "version": 3
   },
   "file_extension": ".py",
   "mimetype": "text/x-python",
   "name": "python",
   "nbconvert_exporter": "python",
   "pygments_lexer": "ipython3",
   "version": "3.6.2"
  }
 },
 "nbformat": 4,
 "nbformat_minor": 2
}
